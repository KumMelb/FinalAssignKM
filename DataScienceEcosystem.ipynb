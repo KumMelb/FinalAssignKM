{
 "cells": [
  {
   "cell_type": "code",
   "execution_count": null,
   "id": "6c5dc2f2-6cfb-4ddb-8d7c-2a5297c6d179",
   "metadata": {},
   "outputs": [],
   "source": [
    "# code Ex 2\n",
    "# Data Science Tools and Ecosystem"
   ]
  },
  {
   "cell_type": "markdown",
   "id": "b9500f6a-a73d-465e-b022-dbb7ec8b7cdf",
   "metadata": {},
   "source": [
    "# Data Science Tools and Ecosystem"
   ]
  },
  {
   "cell_type": "code",
   "execution_count": null,
   "id": "df55b252-91a1-414d-adbc-ced456fedd31",
   "metadata": {},
   "outputs": [],
   "source": [
    "# code Ex 3\n",
    "In this notebook, Data Science Tools and Ecosystem are summarized."
   ]
  },
  {
   "cell_type": "markdown",
   "id": "764148af-52b0-484e-9692-cacc6eba5a19",
   "metadata": {},
   "source": [
    "In this notebook, Data Science Tools and Ecosystem are summarized."
   ]
  },
  {
   "cell_type": "markdown",
   "id": "44d1264d-7515-4bba-a06e-d08892ba5541",
   "metadata": {},
   "source": [
    "# code Ex 10\n",
    "# List of Objectives\n",
    "\n",
    "**Objectives**\n",
    "\n",
    "- List popular languages for Data Science  \n",
    "- Identify commonly used libraries used by Data Scientists  \n",
    "- Create tables using Markdown to organize tools  \n",
    "- Understand the varioustools used by data scientists.\n",
    "- Learn how to use Jupyter Notebooks, RStudio,and Watson Studio.\n",
    "- Explore open-source tools, commercial tools, and cloud-based tools.\n",
    "- Gain hands-on experience with data science toolkits.\n",
    "- Discover how these tools integrate into the data science workflow.\n",
    "- Develop skills to create and share notebooks for collaboration.\n"
   ]
  },
  {
   "cell_type": "markdown",
   "id": "112f5dcb-2c25-46b8-8a14-160411736154",
   "metadata": {},
   "source": [
    "**Objectives**\n",
    "\n",
    "- List popular languages for Data Science  \n",
    "- Identify commonly used libraries used by Data Scientists  \n",
    "- Create tables using Markdown to organize tools  \n",
    "- Understand the varioustools used by data scientists.\n",
    "- Learn how to use Jupyter Notebooks, RStudio, and Watson Studio.\n",
    "- Explore open-source tools, commercial tools, and cloud-based tools.\n",
    "- Gain hands-on experience with data science toolkits.\n",
    "- Discover how these tools integrate into the data science workflow.\n",
    "- Develop skills to create and share notebooks for collaboration."
   ]
  },
  {
   "cell_type": "code",
   "execution_count": null,
   "id": "e8c6993e-cb6a-4e2e-927c-1a62ea90bf65",
   "metadata": {},
   "outputs": [],
   "source": [
    "# code Ex 4\n",
    "Some of the popular languages that Data Scientists use are:\n",
    "\n",
    "1. Python  \n",
    "2. R  \n",
    "3. SQL  \n",
    "4. Julia  \n",
    "5. Scala\n"
   ]
  },
  {
   "cell_type": "markdown",
   "id": "95ce24f1-b854-4be1-9fcb-13dbcba4bc56",
   "metadata": {},
   "source": [
    "Some of the popular languages that Data Scientists use are:\n",
    "\n",
    "1. Python  \n",
    "2. R  \n",
    "3. SQL  \n",
    "4. Julia  \n",
    "5. Scala\n"
   ]
  },
  {
   "cell_type": "code",
   "execution_count": null,
   "id": "2e42e261-a672-4239-8e94-5f4fe3e29e7a",
   "metadata": {},
   "outputs": [],
   "source": [
    "# code Ex 5\n",
    "Some of the commonly used libraries used by Data Scientists include:\n",
    "\n",
    "1. Pandas  \n",
    "2. NumPy  \n",
    "3. Matplotlib  \n",
    "4. Scikit-learn  \n",
    "5. TensorFlow\n"
   ]
  },
  {
   "cell_type": "markdown",
   "id": "b9b4c3d1-324a-4438-9deb-8a118577b7b0",
   "metadata": {},
   "source": [
    "Some of the commonly used libraries used by Data Scientists include:\n",
    "\n",
    "1. Pandas  \n",
    "2. NumPy  \n",
    "3. Matplotlib  \n",
    "4. Scikit-learn  \n",
    "5. TensorFlow\n"
   ]
  },
  {
   "cell_type": "code",
   "execution_count": 2,
   "id": "5a394b89-3e48-4f0a-abd7-40d382397941",
   "metadata": {},
   "outputs": [],
   "source": [
    "# code Ex 6\n",
    "| Data Science Tools         |\n",
    "|---------------------------|\n",
    "| Jupyter Notebook          |\n",
    "| RStudio                   |\n",
    "| VS Code                   |\n"
   ]
  },
  {
   "cell_type": "markdown",
   "id": "a6eccf09-72fc-4b18-86a6-06f50f4c8f39",
   "metadata": {},
   "source": [
    "| Data Science Tools         |\n",
    "|---------------------------|\n",
    "| Jupyter Notebook          |\n",
    "| RStudio                   |\n",
    "| VS Code                   |\n"
   ]
  },
  {
   "cell_type": "code",
   "execution_count": null,
   "id": "513a5bdb-b5e7-4b0b-b9da-e41f8cb221c9",
   "metadata": {},
   "outputs": [],
   "source": [
    "# code Ex 7\n",
    "### Below are a few examples of evaluating arithmetic expressions in Python.\n"
   ]
  },
  {
   "cell_type": "markdown",
   "id": "4409e165-e9e1-4d1e-ae66-4cbb7bfed1d5",
   "metadata": {},
   "source": [
    "### Below are a few examples of evaluating arithmetic expressions in Python.\n"
   ]
  },
  {
   "cell_type": "code",
   "execution_count": 3,
   "id": "30fb6b82-16a6-4092-8d8e-dc638e4eafa7",
   "metadata": {},
   "outputs": [
    {
     "data": {
      "text/plain": [
       "17"
      ]
     },
     "execution_count": 3,
     "metadata": {},
     "output_type": "execute_result"
    }
   ],
   "source": [
    "# code Ex 8\n",
    "# This is a simple arithmetic expression to multiply then add integers\n",
    "(3 * 4) + 5\n"
   ]
  },
  {
   "cell_type": "code",
   "execution_count": 5,
   "id": "e5489d1b-18c2-4080-9422-4ea9d739075a",
   "metadata": {},
   "outputs": [
    {
     "data": {
      "text/plain": [
       "3.3333333333333335"
      ]
     },
     "execution_count": 5,
     "metadata": {},
     "output_type": "execute_result"
    }
   ],
   "source": [
    "# Ex 9\n",
    "# This will convert 200 minutes to hours by dividing by 60\n",
    "200 / 60\n"
   ]
  },
  {
   "cell_type": "code",
   "execution_count": null,
   "id": "558ac9f3-294d-48c5-9ddf-015799b16479",
   "metadata": {},
   "outputs": [],
   "source": [
    "## Author\n",
    "Hemant Kumar\n"
   ]
  },
  {
   "cell_type": "markdown",
   "id": "3808d250-4b51-4d86-9aad-67fc5f08d223",
   "metadata": {},
   "source": [
    "## Author\n",
    "Hemant Kumar\n"
   ]
  },
  {
   "cell_type": "code",
   "execution_count": null,
   "id": "5c7f33fd-2f58-4a20-9ce7-eca45c8b7b16",
   "metadata": {},
   "outputs": [],
   "source": []
  }
 ],
 "metadata": {
  "kernelspec": {
   "display_name": "Python [conda env:base] *",
   "language": "python",
   "name": "conda-base-py"
  },
  "language_info": {
   "codemirror_mode": {
    "name": "ipython",
    "version": 3
   },
   "file_extension": ".py",
   "mimetype": "text/x-python",
   "name": "python",
   "nbconvert_exporter": "python",
   "pygments_lexer": "ipython3",
   "version": "3.12.7"
  }
 },
 "nbformat": 4,
 "nbformat_minor": 5
}
